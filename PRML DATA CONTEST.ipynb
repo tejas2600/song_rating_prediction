{
 "cells": [
  {
   "cell_type": "code",
   "execution_count": null,
   "metadata": {},
   "outputs": [],
   "source": [
    "import pandas as pd\n",
    "import numpy as np\n",
    "import pandas_profiling\n",
    "import matplotlib.pyplot as plt\n",
    "%matplotlib inline\n",
    "import seaborn as sns\n",
    "from sklearn import preprocessing\n",
    "from sklearn.preprocessing import OneHotEncoder\n",
    "from sklearn.model_selection import train_test_split\n",
    "from sklearn.linear_model import LinearRegression\n",
    "from sklearn.metrics import mean_squared_error\n",
    "from sklearn import svm\n",
    "import xgboost as xgb\n",
    "from sklearn.metrics import r2_score\n",
    "from sklearn import linear_model\n",
    "from sklearn.ensemble import RandomForestRegressor\n",
    "from sklearn.experimental import enable_hist_gradient_boosting  \n",
    "from sklearn.ensemble import HistGradientBoostingRegressor"
   ]
  },
  {
   "cell_type": "code",
   "execution_count": null,
   "metadata": {},
   "outputs": [],
   "source": [
    "df_train=pd.read_csv(\"c:/Users/Tejas/Documents/Kaggle/PRML project/train.csv\")\n",
    "df_song=pd.read_csv(\"c:/Users/Tejas/Documents/Kaggle/PRML project/songs.csv\")\n",
    "df_song_label=pd.read_csv(\"c:/Users/Tejas/Documents/Kaggle/PRML project/song_labels.csv\")\n",
    "df_save_for_later=pd.read_csv(\"c:/Users/Tejas/Documents/Kaggle/PRML project/save_for_later.csv\")\n",
    "df_test=pd.read_csv(\"c:/Users/Tejas/Documents/Kaggle/PRML project/test.csv\")"
   ]
  },
  {
   "cell_type": "code",
   "execution_count": null,
   "metadata": {},
   "outputs": [],
   "source": [
    "index=df_test.index\n"
   ]
  },
  {
   "cell_type": "code",
   "execution_count": null,
   "metadata": {},
   "outputs": [],
   "source": [
    "df_train.describe()\n"
   ]
  },
  {
   "cell_type": "code",
   "execution_count": null,
   "metadata": {},
   "outputs": [],
   "source": [
    "df_train.head(10)"
   ]
  },
  {
   "cell_type": "code",
   "execution_count": null,
   "metadata": {},
   "outputs": [],
   "source": [
    "pandas_profiling.ProfileReport(df_train)"
   ]
  },
  {
   "cell_type": "code",
   "execution_count": null,
   "metadata": {},
   "outputs": [],
   "source": [
    "pandas_profiling.ProfileReport(df_test)"
   ]
  },
  {
   "cell_type": "code",
   "execution_count": null,
   "metadata": {},
   "outputs": [],
   "source": [
    "pandas_profiling.ProfileReport(df_song)"
   ]
  },
  {
   "cell_type": "code",
   "execution_count": null,
   "metadata": {},
   "outputs": [],
   "source": [
    "pandas_profiling.ProfileReport(df_song_label)"
   ]
  },
  {
   "cell_type": "code",
   "execution_count": null,
   "metadata": {},
   "outputs": [],
   "source": [
    "pandas_profiling.ProfileReport(df_save_for_later)"
   ]
  },
  {
   "cell_type": "code",
   "execution_count": null,
   "metadata": {},
   "outputs": [],
   "source": [
    "df_train[\"customer_id\"].value_counts()"
   ]
  },
  {
   "cell_type": "code",
   "execution_count": null,
   "metadata": {},
   "outputs": [],
   "source": [
    "df_test[\"customer_id\"].value_counts()"
   ]
  },
  {
   "cell_type": "code",
   "execution_count": null,
   "metadata": {},
   "outputs": [],
   "source": [
    "df_train[\"song_id\"].value_counts()"
   ]
  },
  {
   "cell_type": "code",
   "execution_count": null,
   "metadata": {},
   "outputs": [],
   "source": [
    "df_train"
   ]
  },
  {
   "cell_type": "code",
   "execution_count": null,
   "metadata": {},
   "outputs": [],
   "source": [
    "df_train_final=pd.merge(left=df_train,right=df_song,on=\"song_id\",how=\"left\")\n",
    "df_test_final=pd.merge(left=df_test,right=df_song,on=\"song_id\",how=\"left\")"
   ]
  },
  {
   "cell_type": "code",
   "execution_count": null,
   "metadata": {},
   "outputs": [],
   "source": [
    "df_train_final"
   ]
  },
  {
   "cell_type": "code",
   "execution_count": null,
   "metadata": {},
   "outputs": [],
   "source": [
    "pandas_profiling.ProfileReport(df_test_final)"
   ]
  },
  {
   "cell_type": "code",
   "execution_count": null,
   "metadata": {},
   "outputs": [],
   "source": [
    "df_song_label"
   ]
  },
  {
   "cell_type": "code",
   "execution_count": null,
   "metadata": {},
   "outputs": [],
   "source": [
    "df_song_label.drop_duplicates(keep=\"first\",inplace=True)\n",
    "df_song_label.head()"
   ]
  },
  {
   "cell_type": "code",
   "execution_count": null,
   "metadata": {},
   "outputs": [],
   "source": [
    "df_song_label.sort_values(by=[\"platform_id\",\"count\"],inplace=True)\n",
    "df_song_label"
   ]
  },
  {
   "cell_type": "code",
   "execution_count": null,
   "metadata": {},
   "outputs": [],
   "source": [
    "df_song_label.drop_duplicates(\"platform_id\",keep=\"last\",inplace=True)\n",
    "df_song_label.head()"
   ]
  },
  {
   "cell_type": "code",
   "execution_count": null,
   "metadata": {},
   "outputs": [],
   "source": [
    "df_train_final=pd.merge(left=df_train_final,right=df_song_label,on=\"platform_id\",how=\"left\")\n",
    "df_test_final=pd.merge(left=df_test_final,right=df_song_label,on=\"platform_id\",how=\"left\")"
   ]
  },
  {
   "cell_type": "code",
   "execution_count": null,
   "metadata": {},
   "outputs": [],
   "source": [
    "df_train_final.head(5)"
   ]
  },
  {
   "cell_type": "code",
   "execution_count": null,
   "metadata": {},
   "outputs": [],
   "source": [
    "df_save_for_later"
   ]
  },
  {
   "cell_type": "code",
   "execution_count": null,
   "metadata": {},
   "outputs": [],
   "source": [
    "prefered=[]\n",
    "for i in range(238880):\n",
    "    prefered.append(1)\n",
    "df_save_for_later[\"prefered\"]=prefered"
   ]
  },
  {
   "cell_type": "code",
   "execution_count": null,
   "metadata": {
    "scrolled": true
   },
   "outputs": [],
   "source": [
    "df_train_final=pd.merge(left=df_train_final,right=df_save_for_later,on=[\"song_id\",\"customer_id\"],how=\"left\")\n",
    "df_test_final=pd.merge(left=df_test_final,right=df_save_for_later,on=[\"song_id\",\"customer_id\"],how=\"left\")"
   ]
  },
  {
   "cell_type": "code",
   "execution_count": null,
   "metadata": {},
   "outputs": [],
   "source": [
    "df_test_final"
   ]
  },
  {
   "cell_type": "code",
   "execution_count": null,
   "metadata": {},
   "outputs": [],
   "source": [
    "df_train_final[\"prefered\"].fillna(0,inplace=True)\n",
    "df_test_final[\"prefered\"].fillna(0,inplace=True)"
   ]
  },
  {
   "cell_type": "code",
   "execution_count": null,
   "metadata": {},
   "outputs": [],
   "source": [
    "df_test_final.head(10)"
   ]
  },
  {
   "cell_type": "code",
   "execution_count": null,
   "metadata": {},
   "outputs": [],
   "source": [
    "pandas_profiling.ProfileReport(df_train_final)"
   ]
  },
  {
   "cell_type": "code",
   "execution_count": null,
   "metadata": {},
   "outputs": [],
   "source": [
    "df_test_final[\"language\"].bfill(inplace=True)\n",
    "df_test_final.head()"
   ]
  },
  {
   "cell_type": "code",
   "execution_count": null,
   "metadata": {},
   "outputs": [],
   "source": [
    "pandas_profiling.ProfileReport(df_test_final)\n"
   ]
  },
  {
   "cell_type": "code",
   "execution_count": null,
   "metadata": {},
   "outputs": [],
   "source": [
    "df_train_final.dropna(inplace=True)"
   ]
  },
  {
   "cell_type": "code",
   "execution_count": null,
   "metadata": {},
   "outputs": [],
   "source": [
    "df_train_final[\"language\"].value_counts()"
   ]
  },
  {
   "cell_type": "code",
   "execution_count": null,
   "metadata": {},
   "outputs": [],
   "source": [
    "le = preprocessing.LabelEncoder()\n",
    "#df_train_final['language']= le.fit_transform(df_train_final['language'])\n",
    "df_train_final['customer_id']= le.fit_transform(df_train_final['customer_id'])\n",
    "df_train_final['platform_id']= le.fit_transform(df_train_final['platform_id'])\n",
    "#df_train_final['language']= le.fit_transform(df_train_final['language'])\n",
    "df_test_final['customer_id']= le.fit_transform(df_test_final['customer_id'])\n"
   ]
  },
  {
   "cell_type": "code",
   "execution_count": null,
   "metadata": {},
   "outputs": [],
   "source": [
    "df_test_final[\"released_year\"].value_counts()"
   ]
  },
  {
   "cell_type": "code",
   "execution_count": null,
   "metadata": {},
   "outputs": [],
   "source": [
    "df_train_final.head()"
   ]
  },
  {
   "cell_type": "code",
   "execution_count": null,
   "metadata": {},
   "outputs": [],
   "source": [
    "#indexNames = df_train_final[ df_train_final['released_year'] < 1796].index\n",
    "#df_train_final.drop(indexNames , inplace=True)\n",
    "\n"
   ]
  },
  {
   "cell_type": "code",
   "execution_count": null,
   "metadata": {},
   "outputs": [],
   "source": [
    "df_language=pd.get_dummies(df_train_final['language'], prefix='language')\n",
    "#df_customer=pd.get_dummies(df_train_final['customer_id'], prefix='customer_id')\n",
    "df_year=pd.get_dummies(df_train_final['released_year'], prefix='released_year')\n",
    "df_train_final= pd.concat([df_train_final, df_language, df_year],axis=1)\n",
    "\n",
    "df_language_test=pd.get_dummies(df_test_final['language'], prefix='language')\n",
    "df_year_test=pd.get_dummies(df_test_final['released_year'], prefix='released_year')\n",
    "#df_customer_test=pd.get_dummies(df_test_final['customer_id'], prefix='customer_id')\n",
    "df_test_final= pd.concat([df_test_final, df_language_test, df_year_test],axis=1)"
   ]
  },
  {
   "cell_type": "code",
   "execution_count": null,
   "metadata": {},
   "outputs": [],
   "source": []
  },
  {
   "cell_type": "code",
   "execution_count": null,
   "metadata": {},
   "outputs": [],
   "source": [
    "df_test_final.head()"
   ]
  },
  {
   "cell_type": "code",
   "execution_count": null,
   "metadata": {},
   "outputs": [],
   "source": [
    "df_train_final.head()"
   ]
  },
  {
   "cell_type": "code",
   "execution_count": null,
   "metadata": {},
   "outputs": [],
   "source": [
    "df_train_final.drop(\"platform_id\",axis=1,inplace=True)\n",
    "df_test_final.drop(\"platform_id\",axis=1,inplace=True)"
   ]
  },
  {
   "cell_type": "code",
   "execution_count": null,
   "metadata": {},
   "outputs": [],
   "source": [
    "df_train_final.drop(\"language\",axis=1,inplace=True)\n",
    "df_test_final.drop(\"language\",axis=1,inplace=True)\n",
    "#df_train_final.drop(\"customer_id\",axis=1,inplace=True)\n",
    "#df_test_final.drop(\"customer_id\",axis=1,inplace=True)\n",
    "df_train_final.drop(\"released_year\",axis=1,inplace=True)\n",
    "df_test_final.drop(\"released_year\",axis=1,inplace=True)\n",
    "df_train_final.head()"
   ]
  },
  {
   "cell_type": "code",
   "execution_count": null,
   "metadata": {},
   "outputs": [],
   "source": [
    "pandas_profiling.ProfileReport(df_train_final)"
   ]
  },
  {
   "cell_type": "code",
   "execution_count": null,
   "metadata": {},
   "outputs": [],
   "source": [
    "df_train_final[\"customer_id\"] /df_train_final[\"customer_id\"].abs().max()\n",
    "df_train_final[\"song_id\"] /df_train_final[\"song_id\"].abs().max()\n",
    "#df_train_final[\"released_year\"] /df_train_final[\"released_year\"].abs().max()\n",
    "df_train_final[\"label_id\"] /df_train_final[\"label_id\"].abs().max()\n",
    "df_train_final[\"count\"] /df_train_final[\"count\"].abs().max()\n",
    "df_train_final[\"number_of_comments\"] /df_train_final[\"number_of_comments\"].abs().max()\n",
    "\n",
    "df_test_final[\"customer_id\"] /df_test_final[\"customer_id\"].abs().max()\n",
    "df_test_final[\"song_id\"] /df_test_final[\"song_id\"].abs().max()\n",
    "#df_test_final[\"released_year\"] /df_test_final[\"released_year\"].abs().max()\n",
    "df_test_final[\"label_id\"] /df_test_final[\"label_id\"].abs().max()\n",
    "df_test_final[\"count\"] /df_test_final[\"count\"].abs().max()\n",
    "df_test_final[\"number_of_comments\"] /df_test_final[\"number_of_comments\"].abs().max()"
   ]
  },
  {
   "cell_type": "code",
   "execution_count": null,
   "metadata": {},
   "outputs": [],
   "source": [
    "x_train,x_val,y_train,y_val= train_test_split(df_train_final.drop([\"score\"],axis=1),df_train_final[\"score\"],random_state=17)"
   ]
  },
  {
   "cell_type": "code",
   "execution_count": null,
   "metadata": {},
   "outputs": [],
   "source": [
    "#parameters={'loss':['least_squares', 'least_absolute_deviation', 'poisson'],'learning_rate':[0.01, 0.05, 0.1, 0.5, 1],'max_iter':[50,100, 500, 700, 1000] , 'max_depth':[None, 10, 20, 50, 100],'l2_regularization':[0,0.01,0.1,0.2,0.5,1],'max_bins':[100 , 150 , 225 , 250],'warm_start':[True, False]}\n",
    "#model =GridSearchCV(HistGradientBoostingRegressor(random_state=44),param_grid=parameters,cv=5"
   ]
  },
  {
   "cell_type": "markdown",
   "metadata": {},
   "source": [
    "model=HistGradientBoostingClassifier(learning_rate=0.1,l2_regularization=0.01,max_iter=600,max_bins=255,max_depth=100,min_samples_leaf=50,warm_start=True,random_state=44)\n",
    "model.fit(x_train,y_train)"
   ]
  },
  {
   "cell_type": "code",
   "execution_count": null,
   "metadata": {},
   "outputs": [],
   "source": [
    "model=HistGradientBoostingRegressor(learning_rate=0.1,l2_regularization=0.01,max_iter=600,max_bins=255,max_depth=100,min_samples_leaf=50,warm_start=True,random_state=44) \n",
    "model.fit(x_train,y_train)"
   ]
  },
  {
   "cell_type": "code",
   "execution_count": null,
   "metadata": {},
   "outputs": [],
   "source": [
    "y_train_pred=model.predict(x_train)\n",
    "y_val_pred=model.predict(x_val)"
   ]
  },
  {
   "cell_type": "code",
   "execution_count": null,
   "metadata": {},
   "outputs": [],
   "source": [
    "print(\"Training R2_score:\",r2_score(y_train,y_train_pred))\n",
    "print(\"Validation R2_score:\",r2_score(y_val,y_val_pred))"
   ]
  },
  {
   "cell_type": "code",
   "execution_count": null,
   "metadata": {},
   "outputs": [],
   "source": [
    "mse_train=mean_squared_error(y_train,y_train_pred)\n",
    "mse_val=mean_squared_error(y_val,y_val_pred)"
   ]
  },
  {
   "cell_type": "code",
   "execution_count": null,
   "metadata": {},
   "outputs": [],
   "source": [
    "print(\"Training MSE:\",mse_train)\n",
    "print(\"Validation MSE:\",mse_val)"
   ]
  },
  {
   "cell_type": "code",
   "execution_count": null,
   "metadata": {},
   "outputs": [],
   "source": [
    "y_test_pred=model.predict(df_test_final)"
   ]
  },
  {
   "cell_type": "code",
   "execution_count": null,
   "metadata": {},
   "outputs": [],
   "source": [
    "y_test_pred"
   ]
  },
  {
   "cell_type": "code",
   "execution_count": null,
   "metadata": {},
   "outputs": [],
   "source": [
    "y_submission = {'test_row_id':index,\n",
    "        'score':y_test_pred}\n",
    "  \n",
    "\n",
    "dftest_submission = pd.DataFrame(y_submission)\n",
    "dftest_submission"
   ]
  },
  {
   "cell_type": "code",
   "execution_count": null,
   "metadata": {},
   "outputs": [],
   "source": [
    "score_round=dftest_submission[\"score\"].round(decimals=1)"
   ]
  },
  {
   "cell_type": "code",
   "execution_count": null,
   "metadata": {},
   "outputs": [],
   "source": [
    "dftest_submission[\"score\"]=score_round"
   ]
  },
  {
   "cell_type": "code",
   "execution_count": null,
   "metadata": {},
   "outputs": [],
   "source": [
    "dftest_submission\n"
   ]
  },
  {
   "cell_type": "code",
   "execution_count": null,
   "metadata": {},
   "outputs": [],
   "source": [
    "dftest_submission.to_csv(\"c:/Users/Tejas/Documents/Kaggle/PRML project/CH18B021_CH18B070.csv\",index=False)"
   ]
  }
 ],
 "metadata": {
  "kernelspec": {
   "display_name": "Python 3",
   "language": "python",
   "name": "python3"
  },
  "language_info": {
   "codemirror_mode": {
    "name": "ipython",
    "version": 3
   },
   "file_extension": ".py",
   "mimetype": "text/x-python",
   "name": "python",
   "nbconvert_exporter": "python",
   "pygments_lexer": "ipython3",
   "version": "3.7.3"
  }
 },
 "nbformat": 4,
 "nbformat_minor": 2
}
